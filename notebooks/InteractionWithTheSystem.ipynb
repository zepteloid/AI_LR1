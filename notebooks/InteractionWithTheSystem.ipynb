{
 "cells": [
  {
   "cell_type": "code",
   "execution_count": 1,
   "id": "fdbd0487-9d66-44c6-844c-f8cd11c3d13b",
   "metadata": {},
   "outputs": [
    {
     "name": "stdout",
     "output_type": "stream",
     "text": [
      "InteractionWithTheSystem.ipynb\tkotek.jpg\t      TaskWithMagicCommand\n",
      "JupyterLabTest1.ipynb\t\tPracticalTask1.ipynb\n",
      "JupyterNotebookTest1.ipynb\tTaskWithFiles\n"
     ]
    }
   ],
   "source": [
    "!ls"
   ]
  },
  {
   "cell_type": "code",
   "execution_count": 2,
   "id": "d01a2305-bb9b-4e2a-9550-806410502d82",
   "metadata": {},
   "outputs": [
    {
     "name": "stdout",
     "output_type": "stream",
     "text": [
      "/home/zepteloid/anaconda3/bin/python\n"
     ]
    }
   ],
   "source": [
    "!which python"
   ]
  },
  {
   "cell_type": "code",
   "execution_count": 3,
   "id": "7720c5c0-4f43-46e6-ad37-63a5d2abf194",
   "metadata": {},
   "outputs": [],
   "source": [
    "!mkdir testFolder"
   ]
  },
  {
   "cell_type": "code",
   "execution_count": 8,
   "id": "d315a26b-9a3f-4f25-b9d1-ca5fe0cf788d",
   "metadata": {},
   "outputs": [
    {
     "name": "stdout",
     "output_type": "stream",
     "text": [
      "Удаление директории\n",
      "\n",
      "rmdir: failed to remove 'testFolder': No such file or directory\n",
      "\u001b[H\u001b[2J"
     ]
    }
   ],
   "source": [
    "print(\"Удаление директории\\n\")\n",
    "!rmdir testFolder\n",
    "!clear"
   ]
  },
  {
   "cell_type": "code",
   "execution_count": 13,
   "id": "901c9d81-4257-4cfa-9e66-9e124b3daa53",
   "metadata": {},
   "outputs": [
    {
     "name": "stdout",
     "output_type": "stream",
     "text": [
      "0 \n",
      "\n",
      "1 \n",
      "\n",
      "2 \n",
      "\n",
      "3 \n",
      "\n",
      "4 \n",
      "\n",
      "\u001b[H\u001b[2J"
     ]
    }
   ],
   "source": [
    "for i in range(5):\n",
    "    print(f\"{i} \\n\")\n",
    "!clear"
   ]
  }
 ],
 "metadata": {
  "kernelspec": {
   "display_name": "Python 3 (ipykernel)",
   "language": "python",
   "name": "python3"
  },
  "language_info": {
   "codemirror_mode": {
    "name": "ipython",
    "version": 3
   },
   "file_extension": ".py",
   "mimetype": "text/x-python",
   "name": "python",
   "nbconvert_exporter": "python",
   "pygments_lexer": "ipython3",
   "version": "3.12.7"
  }
 },
 "nbformat": 4,
 "nbformat_minor": 5
}
