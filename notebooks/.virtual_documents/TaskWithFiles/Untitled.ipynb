import os

with open("test.txt", "w") as f:
    f.write("Первая строка\n")
    f.write("Вторая строка\n")


with open("test.txt", "r") as f:
    content = f.read()
    print(f"Содержимое файла: {content}")


print(f"Файл существует: {os.path.exists("test.txt")}")


os.remove("test.txt")
print("Файл удален")


print(f"Файл существует: {os.path.exists("test.txt")}")



