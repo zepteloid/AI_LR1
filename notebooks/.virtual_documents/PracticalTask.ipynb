


name = input("Введите свое имя: ")
print(f"Привет, {name}! Добро пожаловать в JupyterLab!")
