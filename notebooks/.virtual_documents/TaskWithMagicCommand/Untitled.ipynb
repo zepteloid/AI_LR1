print("Список всех магических команд:\n")
%lsmagic


%%writefile testScript.py
number_of_iterations = 10

for i in range(number_of_iterations):
    print(f"Итерация №{i + 1}")


!python3 testScript.py


%history



