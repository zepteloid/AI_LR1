a = 5
b = 7
print(a+b)


n = 7
for i in range(n):
    print(i*10)


i = 0
while True:
    i += 1
    if i > 5:
        break
    print("Test while")


%matplotlib inline
from matplotlib import pyplot as plt
x = [i for i in range(50)]
y = [i**2 for i in range(50)]
    
plt.plot(x, y)
plt.show()


import matplotlib
print("Текущий бэкенд:", matplotlib.get_backend())


%lsmagic



