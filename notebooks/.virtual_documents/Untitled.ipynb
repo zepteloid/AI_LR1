


name = input("Введите свое имя: ")
printf(



