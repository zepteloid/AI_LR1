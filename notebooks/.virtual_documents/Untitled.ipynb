!ls


!which python


!mkdir testFolder


print("Удаление директории\n")
!rmdir testFolder


for i in range(5):
    print(f"{i} \n")



