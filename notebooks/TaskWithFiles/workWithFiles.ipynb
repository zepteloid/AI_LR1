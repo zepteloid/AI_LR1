{
 "cells": [
  {
   "cell_type": "code",
   "execution_count": 3,
   "id": "eee192ef-7149-463f-9769-f06acd347287",
   "metadata": {},
   "outputs": [],
   "source": [
    "import os\n",
    "\n",
    "with open(\"test.txt\", \"w\") as f:\n",
    "    f.write(\"Первая строка\\n\")\n",
    "    f.write(\"Вторая строка\\n\")"
   ]
  },
  {
   "cell_type": "code",
   "execution_count": 4,
   "id": "abc6f968-9446-4b5a-9876-15ceb8f21a0c",
   "metadata": {},
   "outputs": [
    {
     "name": "stdout",
     "output_type": "stream",
     "text": [
      "Содержимое файла: Первая строка\n",
      "Вторая строка\n",
      "\n"
     ]
    }
   ],
   "source": [
    "with open(\"test.txt\", \"r\") as f:\n",
    "    content = f.read()\n",
    "    print(f\"Содержимое файла: {content}\")"
   ]
  },
  {
   "cell_type": "code",
   "execution_count": 6,
   "id": "8d9b1aa1-7531-436a-8c21-e1596ac98a74",
   "metadata": {},
   "outputs": [
    {
     "name": "stdout",
     "output_type": "stream",
     "text": [
      "Файл существует: True\n"
     ]
    }
   ],
   "source": [
    "print(f\"Файл существует: {os.path.exists(\"test.txt\")}\")"
   ]
  },
  {
   "cell_type": "code",
   "execution_count": 7,
   "id": "c6368ef4-132f-4d86-82fa-1e4db7d904bf",
   "metadata": {},
   "outputs": [
    {
     "name": "stdout",
     "output_type": "stream",
     "text": [
      "Файл удален\n"
     ]
    }
   ],
   "source": [
    "os.remove(\"test.txt\")\n",
    "print(\"Файл удален\")"
   ]
  },
  {
   "cell_type": "code",
   "execution_count": 8,
   "id": "7380861f-9015-4510-be3c-f2b3afb4a3a4",
   "metadata": {},
   "outputs": [
    {
     "name": "stdout",
     "output_type": "stream",
     "text": [
      "Файл существует: False\n"
     ]
    }
   ],
   "source": [
    "print(f\"Файл существует: {os.path.exists(\"test.txt\")}\")"
   ]
  },
  {
   "cell_type": "code",
   "execution_count": null,
   "id": "bf3fe4ec-5a53-483a-a1d7-0f6d440161d7",
   "metadata": {},
   "outputs": [],
   "source": []
  }
 ],
 "metadata": {
  "kernelspec": {
   "display_name": "Python 3 (ipykernel)",
   "language": "python",
   "name": "python3"
  },
  "language_info": {
   "codemirror_mode": {
    "name": "ipython",
    "version": 3
   },
   "file_extension": ".py",
   "mimetype": "text/x-python",
   "name": "python",
   "nbconvert_exporter": "python",
   "pygments_lexer": "ipython3",
   "version": "3.12.7"
  }
 },
 "nbformat": 4,
 "nbformat_minor": 5
}
